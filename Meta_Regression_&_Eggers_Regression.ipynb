{
  "nbformat": 4,
  "nbformat_minor": 0,
  "metadata": {
    "colab": {
      "provenance": []
    },
    "kernelspec": {
      "name": "python3",
      "display_name": "Python 3"
    },
    "language_info": {
      "name": "python"
    }
  },
  "cells": [
    {
      "cell_type": "markdown",
      "source": [
        "# Meta-Regression\n",
        "From our Data Extraction sheet, we obtain the values for the mean ages for each study. Using these values, we test to see if there is any significant impact of the values on our results"
      ],
      "metadata": {
        "id": "178Zl3djb4N5"
      }
    },
    {
      "cell_type": "code",
      "source": [
        "pip install PythonMeta"
      ],
      "metadata": {
        "colab": {
          "base_uri": "https://localhost:8080/"
        },
        "id": "3-f6yUCXCF46",
        "outputId": "7cb688fb-7470-431c-8cd1-0fdc946d6e15"
      },
      "execution_count": null,
      "outputs": [
        {
          "output_type": "stream",
          "name": "stdout",
          "text": [
            "Collecting PythonMeta\n",
            "  Downloading PythonMeta-1.26-py3-none-any.whl (90 kB)\n",
            "\u001b[?25l     \u001b[90m━━━━━━━━━━━━━━━━━━━━━━━━━━━━━━━━━━━━━━━━\u001b[0m \u001b[32m0.0/90.2 kB\u001b[0m \u001b[31m?\u001b[0m eta \u001b[36m-:--:--\u001b[0m\r\u001b[2K     \u001b[90m━━━━━━━━━━━━━━━━━━━━━━━━━━━━━━━━━━━━━━━━\u001b[0m \u001b[32m90.2/90.2 kB\u001b[0m \u001b[31m2.5 MB/s\u001b[0m eta \u001b[36m0:00:00\u001b[0m\n",
            "\u001b[?25hRequirement already satisfied: matplotlib in /usr/local/lib/python3.10/dist-packages (from PythonMeta) (3.7.1)\n",
            "Requirement already satisfied: statsmodels in /usr/local/lib/python3.10/dist-packages (from PythonMeta) (0.14.0)\n",
            "Requirement already satisfied: contourpy>=1.0.1 in /usr/local/lib/python3.10/dist-packages (from matplotlib->PythonMeta) (1.1.0)\n",
            "Requirement already satisfied: cycler>=0.10 in /usr/local/lib/python3.10/dist-packages (from matplotlib->PythonMeta) (0.11.0)\n",
            "Requirement already satisfied: fonttools>=4.22.0 in /usr/local/lib/python3.10/dist-packages (from matplotlib->PythonMeta) (4.42.1)\n",
            "Requirement already satisfied: kiwisolver>=1.0.1 in /usr/local/lib/python3.10/dist-packages (from matplotlib->PythonMeta) (1.4.5)\n",
            "Requirement already satisfied: numpy>=1.20 in /usr/local/lib/python3.10/dist-packages (from matplotlib->PythonMeta) (1.23.5)\n",
            "Requirement already satisfied: packaging>=20.0 in /usr/local/lib/python3.10/dist-packages (from matplotlib->PythonMeta) (23.1)\n",
            "Requirement already satisfied: pillow>=6.2.0 in /usr/local/lib/python3.10/dist-packages (from matplotlib->PythonMeta) (9.4.0)\n",
            "Requirement already satisfied: pyparsing>=2.3.1 in /usr/local/lib/python3.10/dist-packages (from matplotlib->PythonMeta) (3.1.1)\n",
            "Requirement already satisfied: python-dateutil>=2.7 in /usr/local/lib/python3.10/dist-packages (from matplotlib->PythonMeta) (2.8.2)\n",
            "Requirement already satisfied: scipy!=1.9.2,>=1.4 in /usr/local/lib/python3.10/dist-packages (from statsmodels->PythonMeta) (1.11.2)\n",
            "Requirement already satisfied: pandas>=1.0 in /usr/local/lib/python3.10/dist-packages (from statsmodels->PythonMeta) (1.5.3)\n",
            "Requirement already satisfied: patsy>=0.5.2 in /usr/local/lib/python3.10/dist-packages (from statsmodels->PythonMeta) (0.5.3)\n",
            "Requirement already satisfied: pytz>=2020.1 in /usr/local/lib/python3.10/dist-packages (from pandas>=1.0->statsmodels->PythonMeta) (2023.3.post1)\n",
            "Requirement already satisfied: six in /usr/local/lib/python3.10/dist-packages (from patsy>=0.5.2->statsmodels->PythonMeta) (1.16.0)\n",
            "Installing collected packages: PythonMeta\n",
            "Successfully installed PythonMeta-1.26\n"
          ]
        }
      ]
    },
    {
      "cell_type": "code",
      "execution_count": null,
      "metadata": {
        "id": "NiXi6jzMbteZ"
      },
      "outputs": [],
      "source": [
        "import PythonMeta as PMA\n",
        "import math\n",
        "import numpy as np\n",
        "import statsmodels.api as sm\n",
        "from tabulate import tabulate\n",
        "\n",
        "ages = {\n",
        "'Brief': 32.1,\n",
        "'Engle': 36.45,\n",
        "'hobfoll': 32.4,\n",
        "'Knaevelsrud': 28.1,\n",
        "'Krupnick': 40,\n",
        "'leslieAmorland':46.45,\n",
        "'Litz': 39.6,\n",
        "'MariekevanMeggelen' :39.3,\n",
        "'Niemeyer':37.8,\n",
        "'Pang': 43.8,\n",
        "'Possemato':39,\n",
        "'Stevens': 34.36}\n",
        "\n",
        "\n",
        "def showresults(rults):\n",
        "    text = \"%-10s %-6s  %-18s %-10s\"%(\"Study ID\",\"n\",\"ES[95% CI]\",\"Weight(%)\\n\")\n",
        "    for i in range(1,len(rults)):\n",
        "        text += \"%-10s %-6d  %-4.2f[%.2f %.2f]   %6.2f\\n\"%(   # for each study\n",
        "        rults[i][0],     #study ID\n",
        "        rults[i][5],     #total num\n",
        "        rults[i][1],     #effect size\n",
        "        rults[i][3],     #lower of CI\n",
        "        rults[i][4],     #higher of CI\n",
        "        100*(rults[i][2]/rults[0][2])  #weight\n",
        "        )\n",
        "    text += \"%-10s %-6d  %-4.2f[%.2f %.2f]   %6d\\n\"%(         # for total effect\n",
        "        rults[0][0],     #total effect size name\n",
        "        rults[0][5],     #total N (all studies)\n",
        "        rults[0][1],     #total effect size\n",
        "        rults[0][3],     #total lower CI\n",
        "        rults[0][4],     #total higher CI\n",
        "        100\n",
        "        )\n",
        "    text += \"%d studies included (N=%d)\\n\"%(len(rults)-1,rults[0][5])\n",
        "    text += \"Heterogeneity: Tau\\u00b2=%.3f \"%(rults[0][12]) if not rults[0][12]==None else \"Heterogeneity: \"\n",
        "    text += \"Q(Chisquare)=%.2f(p=%s); I\\u00b2=%s\\n\"%(\n",
        "        rults[0][7],     #Q test value\n",
        "        rults[0][8],     #p value for Q test\n",
        "        str(round(rults[0][9],2))+\"%\")   #I-square value\n",
        "    text += \"Overall effect test: z=%.2f, p=%s\\n\"%(rults[0][10],rults[0][11])  #z-test value and p-value\n",
        "\n",
        "    return text\n",
        "\n",
        "setting = {\"datatype\": \"CATE\",\n",
        "                \"models\": \"random\",\n",
        "                \"algorithm\": \"iv\",\n",
        "                \"effect\": \"RR\"}"
      ]
    },
    {
      "cell_type": "code",
      "source": [
        "d = PMA.Data()  # Load Data class\n",
        "m = PMA.Meta()  # Load Meta class\n",
        "\n",
        "\n",
        "d.datatype = setting[\"datatype\"]\n",
        "studies = d.getdata(d.readfile(\"/content/Outcome_Stats.txt\"))\n",
        "m.datatype = d.datatype\n",
        "m.models = setting[\"models\"]\n",
        "m.algorithm = setting[\"algorithm\"]\n",
        "m.effect = setting[\"effect\"]\n",
        "results = m.meta(studies)\n",
        "\n",
        "#print(showresults(results))\n",
        "y_studyid = []\n",
        "for i in range(1,len(results)):\n",
        "    y_studyid.append([results[i][0], results[i][1]])\n",
        "x = []          # Age\n",
        "y = []          # Effect size\n",
        "for i in range(len(y_studyid)):\n",
        "    x.append(ages[y_studyid[i][0]])\n",
        "    y.append(y_studyid[i][1])\n",
        "x = np.array(x)\n",
        "y = np.array(y)\n",
        "x = sm.add_constant(x)\n",
        "est = sm.OLS(y, x).fit()\n",
        "print(est.summary())\n",
        "if est.pvalues[1] > 0.05:\n",
        "    print(\"\\nThe tested variable is not statistically significant\\n\")\n",
        "else:\n",
        "    print(\"\\nThe tested variable is statistically significant\\n\")"
      ],
      "metadata": {
        "colab": {
          "base_uri": "https://localhost:8080/"
        },
        "id": "5VqnUD_8c-y-",
        "outputId": "3bca64f6-beec-4d0e-dfa8-3ef86405e4ec"
      },
      "execution_count": null,
      "outputs": [
        {
          "output_type": "stream",
          "name": "stdout",
          "text": [
            "                            OLS Regression Results                            \n",
            "==============================================================================\n",
            "Dep. Variable:                      y   R-squared:                       0.133\n",
            "Model:                            OLS   Adj. R-squared:                  0.046\n",
            "Method:                 Least Squares   F-statistic:                     1.536\n",
            "Date:                Mon, 02 Oct 2023   Prob (F-statistic):              0.243\n",
            "Time:                        20:16:00   Log-Likelihood:                -4.8597\n",
            "No. Observations:                  12   AIC:                             13.72\n",
            "Df Residuals:                      10   BIC:                             14.69\n",
            "Df Model:                           1                                         \n",
            "Covariance Type:            nonrobust                                         \n",
            "==============================================================================\n",
            "                 coef    std err          t      P>|t|      [0.025      0.975]\n",
            "------------------------------------------------------------------------------\n",
            "const          0.0839      0.881      0.095      0.926      -1.878       2.046\n",
            "x1             0.0289      0.023      1.239      0.243      -0.023       0.081\n",
            "==============================================================================\n",
            "Omnibus:                        4.852   Durbin-Watson:                   2.131\n",
            "Prob(Omnibus):                  0.088   Jarque-Bera (JB):                1.902\n",
            "Skew:                           0.895   Prob(JB):                        0.386\n",
            "Kurtosis:                       3.774   Cond. No.                         290.\n",
            "==============================================================================\n",
            "\n",
            "Notes:\n",
            "[1] Standard Errors assume that the covariance matrix of the errors is correctly specified.\n",
            "\n",
            "The tested variable is not statistically significant\n",
            "\n"
          ]
        },
        {
          "output_type": "stream",
          "name": "stderr",
          "text": [
            "/usr/local/lib/python3.10/dist-packages/scipy/stats/_stats_py.py:1806: UserWarning: kurtosistest only valid for n>=20 ... continuing anyway, n=12\n",
            "  warnings.warn(\"kurtosistest only valid for n>=20 ... continuing \"\n"
          ]
        }
      ]
    },
    {
      "cell_type": "markdown",
      "source": [
        "# Eggers Regression\n",
        "Now we use the Eggers regression to test for Publication Bias in our Systematic Review"
      ],
      "metadata": {
        "id": "kx94_cAjcxnF"
      }
    },
    {
      "cell_type": "code",
      "source": [
        "est1 = m.Eggers_test(results)\n",
        "print(\"Output for Egger's test:\")\n",
        "allData = [['Intercept', 't-value', 'p-value', 'S.D', 'Confidence Intervals'], est1]\n",
        "print(tabulate(allData))\n",
        "if est1[2] > 0.05:\n",
        "    print(\"No publication bias!\")\n",
        "else:\n",
        "    print(\"There is publication bias.\")"
      ],
      "metadata": {
        "colab": {
          "base_uri": "https://localhost:8080/"
        },
        "id": "kk4Z50Byc7b5",
        "outputId": "46d7fdfc-af81-4e2f-bc35-3f5858ab0ade"
      },
      "execution_count": null,
      "outputs": [
        {
          "output_type": "stream",
          "name": "stdout",
          "text": [
            "Output for Egger's test:\n",
            "------------------  ------------------  -------------------  ------------------  -------------------------\n",
            "Intercept           t-value             p-value              S.D                 Confidence Intervals\n",
            "0.5857183363490212  0.7866448869521221  0.44972989425607424  0.7445778216628388  [-1.07330444  2.24474111]\n",
            "------------------  ------------------  -------------------  ------------------  -------------------------\n",
            "No publication bias!\n"
          ]
        }
      ]
    }
  ]
}